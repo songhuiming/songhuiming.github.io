{
 "cells": [
  {
   "cell_type": "markdown",
   "metadata": {},
   "source": [
    "今天在写Jimmy的calc engine的时候发现的一个问题：第一遍draft code的时候没有使用函数，而是直接一行行的写，每一个变量都有一个名字。写完以后需要整理成python的function，这样可以通用化。\n",
    "\n",
    "但是一个问题是：当把新的data传进函数的时候，比如新的data是pandas dataframe的每一行，这个时候要么把每一行的不同列都分别赋值给函数的参数，能不能把这一行当作一个整体，比如是一个list传递进去？答案是肯定的。就是需要用\n",
    "\n",
    "__*args__\n",
    "\n",
    "（顺便说一下    __**kvargs__）"
   ]
  },
  {
   "cell_type": "code",
   "execution_count": 21,
   "metadata": {
    "collapsed": false
   },
   "outputs": [
    {
     "name": "stdout",
     "output_type": "stream",
     "text": [
      "[[6 1 6 5]\n",
      " [5 9 6 8]\n",
      " [0 8 1 5]\n",
      " [3 1 0 6]\n",
      " [4 4 6 8]]\n"
     ]
    }
   ],
   "source": [
    "import pandas as pd\n",
    "import numpy as np\n",
    "\n",
    "def test(a, b, c, e):\n",
    "    return a\n",
    "\n",
    "np.random.seed(9999)\n",
    "np_array = np.random.randint(0, 10, 20).reshape((5, 4))\n",
    "print df"
   ]
  },
  {
   "cell_type": "markdown",
   "metadata": {},
   "source": [
    "test函数有4个参数，它的目的是返回第一个参数\n",
    "\n",
    "np_array是一个5*4的array，现在想把每一行都作为test的参数传进去。如果直接把np_array的一行放进去肯定不行：一行是一个list，但是test函数需要4个参数。\n",
    "\n",
    "这个时候在list前面加个 __*__ 就可以解决"
   ]
  },
  {
   "cell_type": "code",
   "execution_count": 22,
   "metadata": {
    "collapsed": false
   },
   "outputs": [
    {
     "ename": "TypeError",
     "evalue": "test() takes exactly 4 arguments (1 given)",
     "output_type": "error",
     "traceback": [
      "\u001b[1;31m---------------------------------------------------------------------------\u001b[0m",
      "\u001b[1;31mTypeError\u001b[0m                                 Traceback (most recent call last)",
      "\u001b[1;32m<ipython-input-22-d2259d52cb20>\u001b[0m in \u001b[0;36m<module>\u001b[1;34m()\u001b[0m\n\u001b[0;32m      1\u001b[0m \u001b[1;32mfor\u001b[0m \u001b[0mi\u001b[0m \u001b[1;32min\u001b[0m \u001b[0mnp_array\u001b[0m\u001b[1;33m:\u001b[0m\u001b[1;33m\u001b[0m\u001b[0m\n\u001b[1;32m----> 2\u001b[1;33m     \u001b[1;32mprint\u001b[0m \u001b[0mtest\u001b[0m\u001b[1;33m(\u001b[0m\u001b[0mi\u001b[0m\u001b[1;33m)\u001b[0m\u001b[1;33m\u001b[0m\u001b[0m\n\u001b[0m",
      "\u001b[1;31mTypeError\u001b[0m: test() takes exactly 4 arguments (1 given)"
     ]
    }
   ],
   "source": [
    "for i in np_array:\n",
    "    print test(i)"
   ]
  },
  {
   "cell_type": "code",
   "execution_count": 23,
   "metadata": {
    "collapsed": false
   },
   "outputs": [
    {
     "name": "stdout",
     "output_type": "stream",
     "text": [
      "6\n",
      "5\n",
      "0\n",
      "3\n",
      "4\n"
     ]
    }
   ],
   "source": [
    "for i in np_array:\n",
    "    print test(*i)"
   ]
  },
  {
   "cell_type": "markdown",
   "metadata": {},
   "source": [
    "__**kvargs__ 或者 __**kwargs__ 是传入key value的组合。"
   ]
  },
  {
   "cell_type": "code",
   "execution_count": 31,
   "metadata": {
    "collapsed": false
   },
   "outputs": [
    {
     "name": "stdout",
     "output_type": "stream",
     "text": [
      "key = y ,  value = 5\n",
      "key = x ,  value = 3\n",
      "key = z ,  value = 8\n"
     ]
    }
   ],
   "source": [
    "def test(**kvargs):\n",
    "    for key in kvargs:\n",
    "        print \"key = %s ,  value = %s\" % (key, kvargs[key])\n",
    "        \n",
    "test(x = 3, y = 5, z = 8)"
   ]
  },
  {
   "cell_type": "markdown",
   "metadata": {},
   "source": [
    "还可以把 __*args__ __**kvargs__一起作为函数的参数，但是一定要注意的是：传进真实参数的时候，要跟__*args__ __**kvargs__的顺序一致，否则会报错。"
   ]
  },
  {
   "cell_type": "code",
   "execution_count": null,
   "metadata": {
    "collapsed": true
   },
   "outputs": [],
   "source": []
  }
 ],
 "metadata": {
  "kernelspec": {
   "display_name": "Python 2",
   "language": "python",
   "name": "python2"
  },
  "language_info": {
   "codemirror_mode": {
    "name": "ipython",
    "version": 2
   },
   "file_extension": ".py",
   "mimetype": "text/x-python",
   "name": "python",
   "nbconvert_exporter": "python",
   "pygments_lexer": "ipython2",
   "version": "2.7.10"
  }
 },
 "nbformat": 4,
 "nbformat_minor": 0
}
