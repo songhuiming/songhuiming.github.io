{
 "cells": [
  {
   "cell_type": "markdown",
   "metadata": {},
   "source": [
    "#### 好多地方都会用到recursion function，特别是在构造decision tree的时候\n",
    "\n",
    "#### recursion function就是函数调用自身。recursion function通常需要下面两个过程：\n",
    "\n",
    "1. **Base case**: 就是不需要调用自身就能给出答案的部分，通常是递归初始的时候。比如求阶乘 $n=1$ 和 $n=0$ 的时候\n",
    "\n",
    "2. **Recursive case**: 函数调用自身进行计算的部分. 比如阶乘里面  $f(n) = f(n - 1) \\times n = (n - 1)! \\times n$ 部分\n",
    "\n",
    "##### 下面是几个例子，用来说明recursion怎么构造，怎么使用\n"
   ]
  },
  {
   "cell_type": "code",
   "execution_count": 1,
   "metadata": {
    "collapsed": false
   },
   "outputs": [
    {
     "name": "stdout",
     "output_type": "stream",
     "text": [
      "[1, 5, 10, 10, 5, 1]\n"
     ]
    }
   ],
   "source": [
    "''' \n",
    "第一个问题是构造pascal 三角。下一行最两边是1， 生下来的元素是上一行两两元素的和。所以这么构造：\n",
    "1： 只有一行或者两行，那就是1\n",
    "2： 从第三行开始，两边是1，中间是上一行从第一个元素开始，第一个元素与第二个元素的和。\n",
    "\n",
    "Question 1. Pascal's Triangle:\n",
    "\n",
    "              1\n",
    "           1     1\n",
    "        1     2    1\n",
    "      1    3     3    1\n",
    "   1    4     6     4    1\n",
    "1    5    10     10    5    1\n",
    "'''\n",
    "\n",
    "def pascal_t(n):\n",
    "    if n == 1:\n",
    "        return [1]\n",
    "    elif n == 2:\n",
    "        return [1, 1]\n",
    "    elif n > 2:\n",
    "        po = pascal_t(n - 1)\n",
    "        return [1] + [po[i] + po[i+1] for i in range(len(po)-1)] + [1]\n",
    "\n",
    "print pascal_t(6)"
   ]
  },
  {
   "cell_type": "code",
   "execution_count": 2,
   "metadata": {
    "collapsed": false
   },
   "outputs": [
    {
     "data": {
      "text/plain": [
       "8"
      ]
     },
     "execution_count": 2,
     "metadata": {},
     "output_type": "execute_result"
    }
   ],
   "source": [
    "'''\n",
    "Fibonacci数：第n个数是前面两个数的和\n",
    "\n",
    "Question 2: Fibonacci numbers from Pascal Triangle\n",
    "'''\n",
    "def fib(n):\n",
    "    pass\n",
    "   \n",
    "memo = {0:0, 1:1}\n",
    "def fibm(n):\n",
    "    if not n in memo:\n",
    "        memo[n] = fibm(n-1) + fibm(n-2)\n",
    "    return memo[n]\n",
    "\n",
    "fibm(6)    "
   ]
  },
  {
   "cell_type": "code",
   "execution_count": 3,
   "metadata": {
    "collapsed": false
   },
   "outputs": [
    {
     "name": "stdout",
     "output_type": "stream",
     "text": [
      "[2, 3, 5, 7, 11, 13, 17, 19, 23, 29, 31, 37, 41, 43, 47]\n",
      "[2, 3, 5, 7, 11, 13, 17, 19, 23, 29, 31, 37, 41, 43, 47]\n"
     ]
    }
   ],
   "source": [
    "'''\n",
    "列出小于等于n的质数：列出从2到n的所有数，然后对i=2，删去i的2倍，3倍，等等；对i=3，做同样的事情；\n",
    "最后生下来的数字既不是2的倍数，也不是3的倍数，也不是4的倍数，等等。它们就是质数\n",
    "\n",
    "Question 3. prime numbers. The sieve of Eratosthenes to find all prime numbers up to n.\n",
    "1. Create a list of integers from two to n: 2, 3, 4, ..., n\n",
    "2. Start with a counter i set to 2, i.e. the first prime number\n",
    "3. Starting from i+i, count up by i and remove those numbers from the list, i.e. 2*i, 3*i, 4*i ... \n",
    "4. Find the first number of the list following i. This is the next prime number.\n",
    "5. Set i to the number found in the previous step\n",
    "6. Repeat steps 3 and 4 until i is greater than n. (As an improvement: It's enough to go to the square root of n)\n",
    "7. All the numbers, which are still in the list, are prime numbers\n",
    "'''\n",
    "def sieve_prime_1(n):\n",
    "    if n == 0 or n == 1:\n",
    "        return []\n",
    "    else:\n",
    "        lst = range(2, n+1)                                     # step 1\n",
    "        for i in range(2, n):                                   # step 2 \n",
    "            no_p = [j for j in range(i + i, n + 1, i)]          # step 3 \n",
    "            rest = [j for j in lst if j not in no_p]            # step 3 to remove and step 4\n",
    "            lst = rest                                          # step 5, 6\n",
    "        return rest\n",
    "\n",
    "def sieve_prime_2(n):\n",
    "    if n == 0 or n == 1:\n",
    "        return []\n",
    "    else:\n",
    "        p = range(2, n + 1)     # step 1\n",
    "        for i in p:\n",
    "            no_p = [j for i in p for j in range(i * 2, n + 1, i)]        # step 2, 3   2*i, 3*i, 4*i ...\n",
    "            p = [j for j in range(2, n + 1) if j not in no_p]            # step 4, 5, 6 \n",
    "        return p\n",
    "\n",
    "\n",
    "print sieve_prime_1(50)\n",
    "print sieve_prime_2(50)\n"
   ]
  },
  {
   "cell_type": "code",
   "execution_count": 4,
   "metadata": {
    "collapsed": false
   },
   "outputs": [
    {
     "data": {
      "text/plain": [
       "[[1, 1, 1], [1, 2], [2, 1]]"
      ]
     },
     "execution_count": 4,
     "metadata": {},
     "output_type": "execute_result"
    }
   ],
   "source": [
    "'''\n",
    "爬n级台阶：每次可以爬一级或者两级。总共有多少爬法。\n",
    "从第n-1到第n：增加了一级台阶，把这一级台阶插到第n-1次的所有办法里面每个办法里每个位置。然后去除重复的办法。\n",
    "如果n是偶数，增加一个办法：每次都爬两级\n",
    "\n",
    "Question 4. I want to go up a flight of stairs that has n steps. I can either take 1 or 2 steps each time. \n",
    "How many different ways can I go up this flight of stairs?  \n",
    "'''\n",
    "# n=3,  s = [[1,1,1], [1,2], [2,1]]\n",
    "\n",
    "import itertools\n",
    "\n",
    "# de-dup the duplicated elements in the list while the elements are lists\n",
    "def dedup_list(ls):\n",
    "    ls0 = sorted(ls)\n",
    "    newls = [ls0[i] for i in xrange(len(ls0)) if i == 0 or ls[i] != ls[i - 1]]\n",
    "    return newls\n",
    "\n",
    "# from n-1 to n, insert '1' to all the positions in the results of step n-1\n",
    "# s is the result in step n-1, it is a list of lists\n",
    "# n=3,  s = [[1,1,1], [1,2], [2,1]]\n",
    "def inserts(s):\n",
    "    newls = []\n",
    "    for ls0 in s:          #e.g. ls0 = [1,1,1]\n",
    "        for p in xrange(len(list(ls0)) + 1):\n",
    "            ls0p = ls0[:p] + [1] + ls0[p:]\n",
    "            newls.append(ls0p)\n",
    "    return dedup_list(newls)\n",
    "\n",
    "def steps(n):\n",
    "    if n == 1:\n",
    "        return [[1]]\n",
    "    else:\n",
    "        s0 = steps(n - 1)\n",
    "        if n % 2 == 1:\n",
    "            return inserts(s0)\n",
    "        else:\n",
    "            return inserts(s0) + [[2] * (n / 2)]\n",
    "        \n",
    "steps(3)"
   ]
  },
  {
   "cell_type": "code",
   "execution_count": 5,
   "metadata": {
    "collapsed": false
   },
   "outputs": [
    {
     "data": {
      "text/plain": [
       "[5, 4, 3, 2, 1]"
      ]
     },
     "execution_count": 5,
     "metadata": {},
     "output_type": "execute_result"
    }
   ],
   "source": [
    "'''\n",
    "反序一个列表：把最后一个元素拿出来放最前面，然后反序拿出最后一个元素后剩下来的列表\n",
    "'''\n",
    "\n",
    "def reverse_iter(x):\n",
    "    if len(x) == 1:\n",
    "        return x\n",
    "    elif len(x) > 1:\n",
    "        return [x[-1]] + reverse_iter(x[:-1])\n",
    "\n",
    "reverse_iter([1, 2, 3, 4, 5])"
   ]
  },
  {
   "cell_type": "markdown",
   "metadata": {},
   "source": [
    "reference\n",
    "\n",
    "1.: [Recursive Functions](http://www.python-course.eu/python3_recursive_functions.php)"
   ]
  }
 ],
 "metadata": {
  "kernelspec": {
   "display_name": "Python 2",
   "language": "python",
   "name": "python2"
  },
  "language_info": {
   "codemirror_mode": {
    "name": "ipython",
    "version": 2
   },
   "file_extension": ".py",
   "mimetype": "text/x-python",
   "name": "python",
   "nbconvert_exporter": "python",
   "pygments_lexer": "ipython2",
   "version": "2.7.10"
  }
 },
 "nbformat": 4,
 "nbformat_minor": 0
}
